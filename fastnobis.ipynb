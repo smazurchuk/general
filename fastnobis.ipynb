{
 "cells": [
  {
   "cell_type": "code",
   "execution_count": 1,
   "id": "a830c877-a567-488f-9a31-0ebe959c8f0b",
   "metadata": {},
   "outputs": [],
   "source": [
    "import time\n",
    "import numpy as np\n",
    "import rsatoolbox as rsa\n",
    "from numba import njit"
   ]
  },
  {
   "cell_type": "code",
   "execution_count": 2,
   "id": "e1289359-370f-4625-87af-02de913c15ba",
   "metadata": {},
   "outputs": [],
   "source": [
    "# Load dataset\n",
    "dsets = np.random.rand(18,1800,29696)\n",
    "lh_rois = np.array([np.random.choice(29696,100,replace=False) for _ in range(1000)]) # Searchlight vertices\n",
    "\n",
    "# Generate Word and presentation numbers\n",
    "words = []; presentation = [];\n",
    "for i in range(1800):\n",
    "    words.append(int(i/6))\n",
    "    # words.append(f'_{int(i/6)}_')\n",
    "    presentation.append(np.mod(i,6))\n",
    "words = np.array(words)\n",
    "cv_descriptor = np.array(presentation)\n",
    "measurements = dsets[1,:,lh_rois[1]].T"
   ]
  },
  {
   "cell_type": "code",
   "execution_count": 3,
   "id": "71886bac-ed72-4d95-bff6-d3068248bcf4",
   "metadata": {},
   "outputs": [
    {
     "data": {
      "text/plain": [
       "array([ 3.68760544e-05,  7.75989883e-05, -4.00529531e-05, ...,\n",
       "        2.10627683e-04,  3.61619696e-05, -1.90621169e-04])"
      ]
     },
     "execution_count": 3,
     "metadata": {},
     "output_type": "execute_result"
    }
   ],
   "source": [
    "rdm_mask = np.triu(np.ones(len(np.unique(words)),dtype=bool),1).flatten()\n",
    "@njit(nogil=True)\n",
    "def fastCross(measurements,words,cv_descriptor,rdm_mask):\n",
    "    n_chan = measurements.shape[1]\n",
    "    noise = np.eye(n_chan)\n",
    "    cv_folds = np.unique(cv_descriptor)\n",
    "    unique_words = np.unique(words)\n",
    "    rdm_len = int(len(unique_words)*(len(unique_words)-1)/2)\n",
    "    rdms = np.zeros((len(cv_folds),rdm_len))\n",
    "    for i,k in enumerate(cv_folds):\n",
    "        inds  = cv_descriptor==k\n",
    "        # Average by group\n",
    "        mean_train = np.zeros((len(unique_words),n_chan))\n",
    "        mean_test  = np.zeros((len(unique_words),n_chan))\n",
    "        for j in range(len(unique_words)):\n",
    "            tmp_train = measurements[inds & (words==unique_words[j])]\n",
    "            tmp_test  = measurements[~inds & (words==unique_words[j])] \n",
    "            tmp_train = np.sum(tmp_train,0) / tmp_train.shape[0]\n",
    "            tmp_test = np.sum(tmp_test,0) / tmp_train.shape[0]\n",
    "            mean_train[j] = tmp_train\n",
    "            mean_test[j]  = tmp_test\n",
    "        # Calculate Crossnobis\n",
    "        kernel = mean_train @ noise @ mean_test.T\n",
    "        rdm = np.expand_dims(np.diag(kernel), 0) + np.expand_dims(np.diag(kernel), 1)\\\n",
    "            - kernel - kernel.T\n",
    "        rdm2 = rdm.flatten()[rdm_mask] / np.double(n_chan)\n",
    "        rdms[i] = rdm2\n",
    "    # Average RDMS\n",
    "    m_rdm = np.sum(rdms,0) / rdms.shape[0]\n",
    "    return m_rdm\n",
    "fastCross(measurements,words,cv_descriptor,rdm_mask)"
   ]
  },
  {
   "cell_type": "code",
   "execution_count": 4,
   "id": "9813dc58-7f48-44ad-8d76-75cfdc9428dd",
   "metadata": {},
   "outputs": [],
   "source": [
    "# New\n",
    "def sl_new(i):\n",
    "    neighbors = lh_rois[i]\n",
    "    rdms_data = []\n",
    "    for j in range(len(dsets)): # Iterate over subjects\n",
    "        sdata = fastCross(dsets[j][:,:29696][:,neighbors],words,cv_descriptor,rdm_mask)\n",
    "        rdms_data.append(sdata)\n",
    "    rdms_data = np.array(rdms_data)\n",
    "    return rdms_data\n",
    "# Old\n",
    "ds = []; # Generate list of datasets\n",
    "for i in range(len(dsets)):\n",
    "    tmp    = dsets[i][:,:29696]\n",
    "    tmp_ds = rsa.data.dataset.Dataset(measurements = tmp,\n",
    "             descriptors = {'subj':i},\n",
    "             obs_descriptors = {'words':words, 'presentation':presentation},\n",
    "             channel_descriptors={'vertices':np.arange(29696)})\n",
    "    ds.append(tmp_ds)\n",
    "def sl_old(i):\n",
    "    neighbors = lh_rois[i]\n",
    "    rdms_data = []\n",
    "    for j in range(len(ds)): # Iterate over subjects\n",
    "        sdata = ds[j].subset_channel('vertices',neighbors)\n",
    "        tmp = rsa.rdm.calc_rdm(sdata, descriptor='words',method='crossnobis',\n",
    "                                cv_descriptor='presentation')\n",
    "        rdms_data.append(tmp)\n",
    "    rdms_data = rsa.rdm.rdms.concat(rdms_data)\n",
    "    return rdms_data.dissimilarities"
   ]
  },
  {
   "cell_type": "code",
   "execution_count": 5,
   "id": "0bab5e02-09bd-4de4-9fb4-c6463e9f7fa9",
   "metadata": {},
   "outputs": [
    {
     "name": "stdout",
     "output_type": "stream",
     "text": [
      "Elapsed Time:4.6 seconds\n"
     ]
    }
   ],
   "source": [
    "start = time.time()\n",
    "tmp1 = [sl_new(i) for i in range(10)]\n",
    "print(f'Elapsed Time:{time.time() - start:.1f} seconds')"
   ]
  },
  {
   "cell_type": "code",
   "execution_count": 6,
   "id": "8689de1b-82d1-4f7f-8cbf-c14a7bdc94e2",
   "metadata": {},
   "outputs": [
    {
     "name": "stdout",
     "output_type": "stream",
     "text": [
      "Elapsed Time:19.9 seconds\n"
     ]
    }
   ],
   "source": [
    "start = time.time()\n",
    "tmp2 = [sl_old(i) for i in range(10)]\n",
    "print(f'Elapsed Time:{time.time() - start:.1f} seconds')"
   ]
  },
  {
   "cell_type": "code",
   "execution_count": 7,
   "id": "76bfa9a5-9b4c-4ad7-9ced-96c0f5df34ae",
   "metadata": {},
   "outputs": [
    {
     "data": {
      "text/plain": [
       "array([[1., 1.],\n",
       "       [1., 1.]])"
      ]
     },
     "execution_count": 7,
     "metadata": {},
     "output_type": "execute_result"
    }
   ],
   "source": [
    "np.corrcoef(np.array(tmp1).flatten(),np.array(tmp2).flatten())"
   ]
  }
 ],
 "metadata": {
  "kernelspec": {
   "display_name": "Python 3",
   "language": "python",
   "name": "python3"
  },
  "language_info": {
   "codemirror_mode": {
    "name": "ipython",
    "version": 3
   },
   "file_extension": ".py",
   "mimetype": "text/x-python",
   "name": "python",
   "nbconvert_exporter": "python",
   "pygments_lexer": "ipython3",
   "version": "3.8.8"
  }
 },
 "nbformat": 4,
 "nbformat_minor": 5
}

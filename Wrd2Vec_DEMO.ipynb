{
 "cells": [
  {
   "cell_type": "markdown",
   "metadata": {},
   "source": [
    "## Word2Vec\n",
    "This is a minimalist implementation of word2vec. First, we will go through our data and make:\n",
    " * A corpus\n",
    " * A vocablary\n",
    " * Dictionaries to convert between the two"
   ]
  },
  {
   "cell_type": "code",
   "execution_count": null,
   "metadata": {},
   "outputs": [],
   "source": [
    "import os\n",
    "import torch\n",
    "import numpy as np\n",
    "\n",
    "corpus = [];  table = str.maketrans('','','!\"#$%&\\'()*+,-./:;<=>?@[\\\\]^_`{|}~')\n",
    "for book in os.listdir('text_files/')[:10]:\n",
    "    try:\n",
    "        words = open('text_files/'+book,'r').read().translate(table).split()\n",
    "        corpus.extend( [w.lower() for w in words] )\n",
    "    except:\n",
    "        print('Failed for book: '+book)\n",
    "\n",
    "vocab = list(set(corpus))\n",
    "print('The total number of words is: ',len(vocab))\n",
    "word2idx = {w: idx for (idx, w) in enumerate(vocab)}\n",
    "idx2word = {idx: w for (idx, w) in enumerate(vocab)}"
   ]
  },
  {
   "cell_type": "markdown",
   "metadata": {},
   "source": [
    "We can now make the actual dataset that will be used to train the \"neural network\""
   ]
  },
  {
   "cell_type": "code",
   "execution_count": null,
   "metadata": {},
   "outputs": [],
   "source": [
    "center_word = []; target_words = [];\n",
    "for idx in range(2,len(corpus)-2):\n",
    "    words        = corpus[idx-2:idx+3]\n",
    "    center_word.append( word2idx[words[2]] )\n",
    "    target_words.append( [word2idx[words[0]], word2idx[words[1]], word2idx[words[3]], word2idx[words[4]]] )"
   ]
  },
  {
   "cell_type": "markdown",
   "metadata": {},
   "source": [
    "Again, we will write our own batching function. Note: **we only put out full sized batches**"
   ]
  },
  {
   "cell_type": "code",
   "execution_count": null,
   "metadata": {},
   "outputs": [],
   "source": [
    "def batch_generator(length, batch_size):\n",
    "    indices = np.arange(length); \n",
    "    np.random.shuffle(indices); batch=[] \n",
    "    for i in indices:\n",
    "        batch.append(i)\n",
    "        if len(batch)==batch_size:\n",
    "            yield batch\n",
    "            batch=[]"
   ]
  },
  {
   "cell_type": "markdown",
   "metadata": {},
   "source": [
    "Now we build the actual class. There is a difference in the networks between CBOW and skip-gram which takes place here. We are applying a soft-max here! (and not in the loss function)"
   ]
  },
  {
   "cell_type": "code",
   "execution_count": null,
   "metadata": {},
   "outputs": [],
   "source": [
    "class wrd2vec(torch.nn.Module):\n",
    "    def __init__(self, vocab_size, embedding_dim=40):\n",
    "        super(wrd2vec, self).__init__()\n",
    "        self.u = torch.nn.Linear(vocab_size,embedding_dim)\n",
    "        self.v = torch.nn.Linear(embedding_dim, vocab_size)\n",
    "        self.soft = torch.nn.Softmax(dim=-1)\n",
    "\n",
    "    def forward(self, x):\n",
    "        out = self.soft(self.v(self.u(x)))\n",
    "        return out"
   ]
  },
  {
   "cell_type": "markdown",
   "metadata": {},
   "source": [
    "We can now set up some essential parameters, write a missing function and then train the network!"
   ]
  },
  {
   "cell_type": "code",
   "execution_count": null,
   "metadata": {},
   "outputs": [],
   "source": [
    "globStep=0; totWords = len(vocab); batch_size=50;\n",
    "net = wrd2vec(totWords)\n",
    "criterion = torch.nn.KLDivLoss(reduction='mean')\n",
    "optimizer = torch.optim.AdamW(net.parameters())"
   ]
  },
  {
   "cell_type": "code",
   "execution_count": null,
   "metadata": {},
   "outputs": [],
   "source": [
    "def torchify(batch):\n",
    "    x = torch.zeros((totWords,batch_size))\n",
    "    y = torch.zeros((totWords,batch_size))\n",
    "    idxs1  = [center_word[k] for k in batch]\n",
    "    idxs2  = [target_words[k][j] for k in batch for j in range(4)]\n",
    "    idxs3  = [k for k in range(batch_size) for h in range(4)]\n",
    "    x[idxs1,list(range(batch_size))] = 1\n",
    "    y[idxs2, idxs3] = 1; y = y/y.sum(dim=0)\n",
    "    return x, y"
   ]
  },
  {
   "cell_type": "code",
   "execution_count": null,
   "metadata": {},
   "outputs": [],
   "source": [
    "for epoch in range(200):\n",
    "    for batch in batch_generator(totWords,batch_size):\n",
    "        x, y = torchify(batch)\n",
    "        out = net(x.T)\n",
    "        loss = criterion(out, y.T)\n",
    "        loss.backward(); globStep += 1\n",
    "        if globStep%2 == 0:\n",
    "            optimizer.step()\n",
    "            optimizer.zero_grad()\n",
    "            if globStep%10 == 0:\n",
    "                print('Step: ',globStep, ' Loss: ',loss.item())"
   ]
  },
  {
   "cell_type": "markdown",
   "metadata": {},
   "source": [
    "## Extra Stuff \n",
    "This is for saving the results and maybe exploring the output depeding on how this session goes!"
   ]
  },
  {
   "cell_type": "code",
   "execution_count": null,
   "metadata": {},
   "outputs": [],
   "source": [
    "v = net.v.weight.detach().numpy()\n",
    "u = net.u.weight.detach().numpy()\n",
    "\n",
    "import scipy.io as sio\n",
    "sio.savemat('matrices.mat',{'u':u, 'v':v, 'vocab':vocab})"
   ]
  },
  {
   "cell_type": "code",
   "execution_count": null,
   "metadata": {},
   "outputs": [],
   "source": [
    "def topWords(word):\n",
    "    idx = word2idx[word]\n",
    "    idxs = np.argsort(-np.dot(w[idx],w.T))[:10]\n",
    "    words = [idx2word[k] for k in idxs]\n",
    "    return words"
   ]
  }
 ],
 "metadata": {
  "kernelspec": {
   "display_name": "Python 3",
   "language": "python",
   "name": "python3"
  },
  "language_info": {
   "codemirror_mode": {
    "name": "ipython",
    "version": 3
   },
   "file_extension": ".py",
   "mimetype": "text/x-python",
   "name": "python",
   "nbconvert_exporter": "python",
   "pygments_lexer": "ipython3",
   "version": "3.7.3"
  }
 },
 "nbformat": 4,
 "nbformat_minor": 4
}

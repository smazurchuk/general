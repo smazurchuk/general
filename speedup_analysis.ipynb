{
 "cells": [
  {
   "cell_type": "code",
   "execution_count": 1,
   "id": "d283b0cc-2ac2-4c86-9002-fda9d6b5ab7f",
   "metadata": {},
   "outputs": [],
   "source": [
    "import imp\n",
    "import time\n",
    "import numpy as np\n",
    "from tqdm import tqdm\n",
    "from scipy.io import loadmat\n",
    "import rsatoolbox as rsa_old # not sure what convention is\n",
    "rsa_new = imp.load_source('rsatoolbox','/home/smazurchuk/Desktop/tmp/rsatoolbox/rsatoolbox/rsatoolbox/__init__.py')"
   ]
  },
  {
   "cell_type": "code",
   "execution_count": 2,
   "id": "d29dd8d5-1f77-464a-bd0f-3e1f303ca248",
   "metadata": {},
   "outputs": [],
   "source": [
    "# Load dataset\n",
    "dsets = np.random.rand(18,1800,29696)\n",
    "lh_rois = np.array([np.random.choice(29696,100,replace=False) for _ in range(10)]) # Searchlight vertices\n",
    "\n",
    "# Generate Word and presentation numbers\n",
    "words = []; presentation = [];\n",
    "for i in range(1800):\n",
    "    words.append(f'_{int(i/6)}_')\n",
    "    presentation.append(np.mod(i,6))"
   ]
  },
  {
   "cell_type": "code",
   "execution_count": 5,
   "id": "65b609b5-bb98-427e-b451-8d2f5875410c",
   "metadata": {},
   "outputs": [],
   "source": [
    "ds = [];\n",
    "for i in range(len(dsets)):\n",
    "    tmp    = dsets[i][:,:29696]\n",
    "    tmp_ds = rsa_old.data.dataset.Dataset(measurements = tmp,\n",
    "             descriptors = {'subj':i},\n",
    "             obs_descriptors = {'words':words, 'presentation':presentation},\n",
    "             channel_descriptors={'vertices':np.arange(29696)})\n",
    "    ds.append(tmp_ds)"
   ]
  },
  {
   "cell_type": "code",
   "execution_count": 11,
   "id": "251f9477-b65e-44dd-8672-f682d37432f2",
   "metadata": {},
   "outputs": [],
   "source": [
    "# Previous\n",
    "def lh_searchlight_old(i):\n",
    "    neighbors = lh_rois[i]\n",
    "    rdms_data = []\n",
    "    for j in range(len(dsets)): # Iterate over subjects\n",
    "        sdata = ds[j].subset_channel('vertices',neighbors)\n",
    "        tmp = rsa_old.rdm.calc_rdm(sdata, descriptor='words',method='crossnobis',\n",
    "                                cv_descriptor='presentation')\n",
    "        rdms_data.append(tmp)\n",
    "    rdms_data = rsa_old.rdm.rdms.concat(rdms_data)\n",
    "    return rdms_data\n",
    "# New\n",
    "def lh_searchlight_new(i):\n",
    "    neighbors = lh_rois[i]\n",
    "    rdms_data = []\n",
    "    for j in range(len(dsets)): # Iterate over subjects\n",
    "        sdata = ds[j].subset_channel('vertices',neighbors)\n",
    "        tmp = rsa_new.rdm.calc_rdm(sdata, descriptor='words',method='crossnobis',\n",
    "                                cv_descriptor='presentation')\n",
    "        rdms_data.append(tmp)\n",
    "    rdms_data = rsa_new.rdm.rdms.concat(rdms_data)\n",
    "    return rdms_data"
   ]
  },
  {
   "cell_type": "code",
   "execution_count": 12,
   "id": "eb5e6ec2-7dd9-4c2c-b6c7-c774557b478c",
   "metadata": {},
   "outputs": [
    {
     "name": "stdout",
     "output_type": "stream",
     "text": [
      "Elapsed Time:126.3 seconds\n"
     ]
    }
   ],
   "source": [
    "start = time.time()\n",
    "tmp = [lh_searchlight_old(i) for i in range(10)]\n",
    "print(f'Elapsed Time:{time.time() - start:.1f} seconds')"
   ]
  },
  {
   "cell_type": "code",
   "execution_count": 13,
   "id": "1395e460-caff-402e-96fc-0b693f1da752",
   "metadata": {},
   "outputs": [
    {
     "name": "stdout",
     "output_type": "stream",
     "text": [
      "Elapsed Time:127.6 seconds\n"
     ]
    }
   ],
   "source": [
    "start = time.time()\n",
    "tmp = [lh_searchlight_new(i) for i in range(10)]\n",
    "print(f'Elapsed Time:{time.time() - start:.1f} seconds')"
   ]
  },
  {
   "cell_type": "code",
   "execution_count": 14,
   "id": "3369071e-1533-4f30-a9e4-fed7fba8682e",
   "metadata": {},
   "outputs": [],
   "source": [
    "def lh_searchlight_new2(i):\n",
    "    rdms_data = []; \n",
    "    neighbors = np.nonzero(lh_rois[i])[0]\n",
    "    for j in range(len(dsets)):\n",
    "        ds = rsa_new.data.dataset.Dataset(measurements = dsets[j][:,:29696][:,neighbors],\n",
    "                 descriptors = {'subj':i, 'center':j},\n",
    "                 obs_descriptors = {'words':words, 'presentation':presentation})\n",
    "        tmp = rsa_new.rdm.calc_rdm(ds, descriptor='words',method='crossnobis',\n",
    "                                cv_descriptor='presentation')\n",
    "        rdms_data.append(tmp)\n",
    "    return rdms_data"
   ]
  },
  {
   "cell_type": "code",
   "execution_count": 15,
   "id": "c9b5ec1e-8e7f-4400-950f-76e7c28b3306",
   "metadata": {},
   "outputs": [
    {
     "name": "stdout",
     "output_type": "stream",
     "text": [
      "Elapsed Time:111.3 seconds\n"
     ]
    }
   ],
   "source": [
    "start = time.time()\n",
    "tmp = [lh_searchlight_new2(i) for i in range(10)]\n",
    "print(f'Elapsed Time:{time.time() - start:.1f} seconds')"
   ]
  },
  {
   "cell_type": "code",
   "execution_count": null,
   "id": "9874050a-2539-4a33-9605-075a9a7dc592",
   "metadata": {},
   "outputs": [],
   "source": []
  }
 ],
 "metadata": {
  "kernelspec": {
   "display_name": "Python 3",
   "language": "python",
   "name": "python3"
  },
  "language_info": {
   "codemirror_mode": {
    "name": "ipython",
    "version": 3
   },
   "file_extension": ".py",
   "mimetype": "text/x-python",
   "name": "python",
   "nbconvert_exporter": "python",
   "pygments_lexer": "ipython3",
   "version": "3.8.8"
  }
 },
 "nbformat": 4,
 "nbformat_minor": 5
}
